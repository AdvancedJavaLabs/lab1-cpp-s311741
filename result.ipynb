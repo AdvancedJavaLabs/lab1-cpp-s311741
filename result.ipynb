{
 "cells": [
  {
   "cell_type": "code",
   "execution_count": null,
   "id": "9d7ced3e",
   "metadata": {},
   "outputs": [],
   "source": [
    "import pandas as pd\n",
    "import plotly.graph_objects as go\n",
    "import plotly.express as px\n",
    "import numpy as np"
   ]
  },
  {
   "cell_type": "code",
   "execution_count": null,
   "id": "380f54e7",
   "metadata": {},
   "outputs": [],
   "source": [
    "data = pd.read_csv('out.csv')\n",
    "data['ve'] = data['e']\n",
    "data['ratio'] = data['seqtime'] / data['partime']\n",
    "display(data)\n",
    "px.line(data, x='ve', y=['seqtime', 'partime'])"
   ]
  }
 ],
 "metadata": {
  "kernelspec": {
   "display_name": "venv",
   "language": "python",
   "name": "python3"
  },
  "language_info": {
   "codemirror_mode": {
    "name": "ipython",
    "version": 3
   },
   "file_extension": ".py",
   "mimetype": "text/x-python",
   "name": "python",
   "nbconvert_exporter": "python",
   "pygments_lexer": "ipython3",
   "version": "3.13.7"
  }
 },
 "nbformat": 4,
 "nbformat_minor": 5
}
